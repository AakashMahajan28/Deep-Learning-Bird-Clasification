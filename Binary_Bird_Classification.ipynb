{
 "cells": [
  {
   "cell_type": "code",
   "execution_count": null,
   "metadata": {
    "id": "-PiZghyIAHUz"
   },
   "outputs": [],
   "source": [
    "import tensorflow as tf\n",
    "from tensorflow.keras import Sequential, Model\n",
    "from tensorflow.keras.layers import Dense, Dropout, Flatten, BatchNormalization\n",
    "from tensorflow.keras.applications.vgg16 import VGG16, preprocess_input\n",
    "from tensorflow.keras.preprocessing.image import ImageDataGenerator\n",
    "import numpy as np\n",
    "import pandas as pd\n",
    "import matplotlib.pyplot as plt\n",
    "%matplotlib inline"
   ]
  },
  {
   "cell_type": "code",
   "execution_count": null,
   "metadata": {
    "id": "EuU8NNQIJpcT"
   },
   "outputs": [],
   "source": [
    "train_data_dir=r\"C:\\FILES\\Binary_Bird_Classification\\Train\"\n",
    "validation_data_dir=r\"C:\\FILES\\Binary_Bird_Classification\\Validation\"\n",
    "image_width=100\n",
    "image_height=100\n",
    "batch_size=150\n"
   ]
  },
  {
   "cell_type": "code",
   "execution_count": null,
   "metadata": {
    "id": "LBWsHbUeKWaF"
   },
   "outputs": [],
   "source": [
    "datagen = ImageDataGenerator(rescale=1./255)\n",
    "train_generator = datagen.flow_from_directory(directory=train_data_dir,\n",
    "                                              target_size = (image_width, image_height),\n",
    "                                              classes=['Bald Eagle','Snowy Owl'],\n",
    "                                              class_mode = 'binary',\n",
    "                                              batch_size=batch_size)\n",
    "\n",
    "validation_generator = datagen.flow_from_directory(directory=validation_data_dir,\n",
    "                                              target_size = (image_width, image_height),\n",
    "                                              classes=['Bald Eagle','Snowy Owl'],\n",
    "                                              class_mode = 'binary',\n",
    "                                              batch_size=batch_size)"
   ]
  },
  {
   "cell_type": "code",
   "execution_count": null,
   "metadata": {
    "id": "aZFMNNBWTyk8"
   },
   "outputs": [],
   "source": [
    "vgg_architecture=VGG16(input_shape=(image_width, image_height,3), weights=\"imagenet\", include_top=False)"
   ]
  },
  {
   "cell_type": "code",
   "execution_count": null,
   "metadata": {
    "id": "jbrDEfIQUcBm"
   },
   "outputs": [],
   "source": [
    "for layers in vgg_architecture.layers:\n",
    "  layers.trainable = False"
   ]
  },
  {
   "cell_type": "code",
   "execution_count": null,
   "metadata": {
    "id": "jy5-hYsmUpYs"
   },
   "outputs": [],
   "source": [
    "model=Sequential()\n",
    "model.add(vgg_architecture)\n",
    "model.add(Flatten())\n",
    "model.add(Dense(128, activation='relu',))\n",
    "model.add(Dropout(0.5))\n",
    "model.add(BatchNormalization())\n",
    "model.add(Dense(1, activation=\"sigmoid\"))"
   ]
  },
  {
   "cell_type": "code",
   "execution_count": null,
   "metadata": {
    "id": "t5nmiqAvU4oU"
   },
   "outputs": [],
   "source": [
    "model.summary()"
   ]
  },
  {
   "cell_type": "code",
   "execution_count": null,
   "metadata": {
    "id": "4wSf7IizVch_"
   },
   "outputs": [],
   "source": [
    "model.compile(optimizer=\"rmsprop\", loss=\"categorical_crossentropy\", metrics=['accuracy'])"
   ]
  },
  {
   "cell_type": "code",
   "execution_count": null,
   "metadata": {
    "id": "Akvkv_ZDVryy"
   },
   "outputs": [],
   "source": [
    "history = model.fit_generator(generator=train_generator, steps_per_epoch=len(train_generator), epochs = 5, \n",
    "                              validation_data=validation_generator, validation_steps=len(validation_generator)\n",
    "                              , verbose = 1)"
   ]
  },
  {
   "cell_type": "code",
   "execution_count": null,
   "metadata": {
    "id": "lvKVauqUbc3n"
   },
   "outputs": [],
   "source": [
    "plt.plot(history.history['accuracy'], label='train accuracy')\n",
    "plt.plot(history.history['val_accuracy'], label='validation accuracy')\n",
    "plt.title('Model Accuracy')\n",
    "plt.ylabel('Accuracy')\n",
    "plt.xlabel('Epoch')\n",
    "plt.legend(loc=\"lower right\")\n",
    "plt.show()"
   ]
  },
  {
   "cell_type": "code",
   "execution_count": null,
   "metadata": {
    "id": "6_CmmdG7oEIJ"
   },
   "outputs": [],
   "source": [
    "model.save('classification_model.h5')"
   ]
  },
  {
   "cell_type": "code",
   "execution_count": null,
   "metadata": {},
   "outputs": [],
   "source": []
  }
 ],
 "metadata": {
  "accelerator": "GPU",
  "colab": {
   "collapsed_sections": [],
   "name": "Binary_Bird_Classification_11013755.ipynb",
   "provenance": []
  },
  "kernelspec": {
   "display_name": "Python 3",
   "language": "python",
   "name": "python3"
  },
  "language_info": {
   "codemirror_mode": {
    "name": "ipython",
    "version": 3
   },
   "file_extension": ".py",
   "mimetype": "text/x-python",
   "name": "python",
   "nbconvert_exporter": "python",
   "pygments_lexer": "ipython3",
   "version": "3.7.6"
  }
 },
 "nbformat": 4,
 "nbformat_minor": 1
}
