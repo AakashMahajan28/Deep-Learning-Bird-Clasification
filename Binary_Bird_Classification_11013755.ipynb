{
  "nbformat": 4,
  "nbformat_minor": 0,
  "metadata": {
    "colab": {
      "name": "Binary_Bird_Classification_11013755.ipynb",
      "provenance": [],
      "collapsed_sections": []
    },
    "kernelspec": {
      "name": "python3",
      "display_name": "Python 3"
    },
    "language_info": {
      "name": "python"
    },
    "accelerator": "GPU"
  },
  "cells": [
    {
      "cell_type": "code",
      "metadata": {
        "id": "-PiZghyIAHUz"
      },
      "source": [
        "import tensorflow as tf\n",
        "from tensorflow.keras import Sequential, Model\n",
        "from tensorflow.keras.layers import Dense, Dropout, Flatten, BatchNormalization\n",
        "from tensorflow.keras.applications.vgg16 import VGG16, preprocess_input\n",
        "from tensorflow.keras.preprocessing.image import ImageDataGenerator\n",
        "import numpy as np\n",
        "import pandas as pd\n",
        "import matplotlib.pyplot as plt\n",
        "%matplotlib inline"
      ],
      "execution_count": null,
      "outputs": []
    },
    {
      "cell_type": "code",
      "metadata": {
        "id": "WMPQS_WDP2Tu"
      },
      "source": [
        "cd /content/drive/MyDrive/Binary_Bird_Classification"
      ],
      "execution_count": null,
      "outputs": []
    },
    {
      "cell_type": "code",
      "metadata": {
        "id": "CjvHxuhaXH9P"
      },
      "source": [
        "!unzip Validation.zip"
      ],
      "execution_count": null,
      "outputs": []
    },
    {
      "cell_type": "code",
      "metadata": {
        "id": "EAx24yOsXUhG"
      },
      "source": [
        "!unzip Train.zip"
      ],
      "execution_count": null,
      "outputs": []
    },
    {
      "cell_type": "code",
      "metadata": {
        "id": "EuU8NNQIJpcT"
      },
      "source": [
        "train_data_dir=\"/content/drive/MyDrive/Binary_Bird_Classification/Train\"\n",
        "validation_data_dir=\"/content/drive/MyDrive/Binary_Bird_Classification/Validation\"\n",
        "image_width=100\n",
        "image_height=100\n",
        "batch_size=150\n"
      ],
      "execution_count": null,
      "outputs": []
    },
    {
      "cell_type": "code",
      "metadata": {
        "id": "LBWsHbUeKWaF"
      },
      "source": [
        "datagen = ImageDataGenerator(rescale=1./255)\n",
        "train_generator = datagen.flow_from_directory(directory=train_data_dir,\n",
        "                                              target_size = (image_width, image_height),\n",
        "                                              classes=['Bald Eagle','Snowy Owl'],\n",
        "                                              class_mode = 'binary',\n",
        "                                              batch_size=batch_size)\n",
        "\n",
        "validation_generator = datagen.flow_from_directory(directory=validation_data_dir,\n",
        "                                              target_size = (image_width, image_height),\n",
        "                                              classes=['Bald Eagle','Snowy Owl'],\n",
        "                                              class_mode = 'binary',\n",
        "                                              batch_size=batch_size)"
      ],
      "execution_count": null,
      "outputs": []
    },
    {
      "cell_type": "code",
      "metadata": {
        "id": "aZFMNNBWTyk8"
      },
      "source": [
        "vgg_architecture=VGG16(input_shape=(image_width, image_height,3), weights=\"imagenet\", include_top=False)"
      ],
      "execution_count": null,
      "outputs": []
    },
    {
      "cell_type": "code",
      "metadata": {
        "id": "jbrDEfIQUcBm"
      },
      "source": [
        "for layers in vgg_architecture.layers:\n",
        "  layers.trainable = False"
      ],
      "execution_count": null,
      "outputs": []
    },
    {
      "cell_type": "code",
      "metadata": {
        "id": "jy5-hYsmUpYs"
      },
      "source": [
        "model=Sequential()\n",
        "model.add(vgg_architecture)\n",
        "model.add(Flatten())\n",
        "model.add(Dense(128, activation='relu',))\n",
        "model.add(Dropout(0.5))\n",
        "model.add(BatchNormalization())\n",
        "model.add(Dense(1, activation=\"sigmoid\"))"
      ],
      "execution_count": null,
      "outputs": []
    },
    {
      "cell_type": "code",
      "metadata": {
        "id": "t5nmiqAvU4oU"
      },
      "source": [
        "model.summary()"
      ],
      "execution_count": null,
      "outputs": []
    },
    {
      "cell_type": "code",
      "metadata": {
        "id": "4wSf7IizVch_"
      },
      "source": [
        "model.compile(optimizer=\"rmsprop\", loss=\"categorical_crossentropy\", metrics=['accuracy'])"
      ],
      "execution_count": null,
      "outputs": []
    },
    {
      "cell_type": "code",
      "metadata": {
        "id": "Akvkv_ZDVryy"
      },
      "source": [
        "\n",
        "history = model.fit_generator(generator=train_generator, steps_per_epoch=len(train_generator), epochs = 5, \n",
        "                              validation_data=validation_generator, validation_steps=len(validation_generator)\n",
        "                              , verbose = 1)"
      ],
      "execution_count": null,
      "outputs": []
    },
    {
      "cell_type": "code",
      "metadata": {
        "id": "lvKVauqUbc3n"
      },
      "source": [
        "plt.plot(history.history['accuracy'])\n",
        "plt.plot(history.history['val_accuracy'])\n",
        "plt.title('Model Accuracy')\n",
        "plt.ylabel('Accuracy')\n",
        "plt.xlabel('Epoch')\n",
        "plt.show()"
      ],
      "execution_count": null,
      "outputs": []
    },
    {
      "cell_type": "code",
      "metadata": {
        "id": "u3DT-ArmYQNE"
      },
      "source": [
        "from tensorflow.keras.preprocessing import image"
      ],
      "execution_count": null,
      "outputs": []
    },
    {
      "cell_type": "code",
      "metadata": {
        "id": "2N0W1Y55Yu8n"
      },
      "source": [
        "img=image.load_img(\"/content/drive/MyDrive/Binary_Bird_Classification/Train/Snowy Owl/001.jpg\",target_size=(image_width,image_height))\n",
        "plt.imshow(img)\n",
        "labels_str = ['Bald Eagle', 'Snowy Owl']\n",
        "img=image.img_to_array(img)\n",
        "img=img/255.0\n",
        "img = np.expand_dims(img, axis=0)\n",
        "prob = model.predict_classes(img)\n",
        "img_class = np.argmax(model.predict(img),axis=0)\n",
        "img_class\n",
        "print(prob)\n",
        "print (\"The predicted bird is {}\".format(labels_str[prob[0][0]]))"
      ],
      "execution_count": null,
      "outputs": []
    },
    {
      "cell_type": "code",
      "metadata": {
        "id": "6_CmmdG7oEIJ"
      },
      "source": [
        "model.save('classification_model.h5')"
      ],
      "execution_count": null,
      "outputs": []
    }
  ]
}